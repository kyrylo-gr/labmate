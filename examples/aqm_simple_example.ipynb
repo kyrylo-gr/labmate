{
 "cells": [
  {
   "cell_type": "code",
   "execution_count": null,
   "metadata": {},
   "outputs": [],
   "source": [
    "import numpy as np\n",
    "import matplotlib.pyplot as plt\n",
    "from labmate.acquisition_notebook import AcquisitionAnalysisManager\n",
    "\n",
    "aqm = AcquisitionAnalysisManager(\"tmp_data\")"
   ]
  },
  {
   "cell_type": "code",
   "execution_count": null,
   "metadata": {},
   "outputs": [],
   "source": [
    "aqm.acquisition_cell(\"your_experiment_name\")\n",
    "\n",
    "x = np.linspace(0, 10, 100)\n",
    "y  = np.sin(x)\n",
    "aqm.save_acquisition(x=x, y=y)"
   ]
  },
  {
   "cell_type": "code",
   "execution_count": null,
   "metadata": {},
   "outputs": [],
   "source": [
    "aqm.analysis_cell()\n",
    "\n",
    "data = aqm.data\n",
    "fig, ax = plt.subplots(1, 1)\n",
    "ax.plot(data.x, data.y)\n",
    "\n",
    "aqm.save_fig(fig)"
   ]
  }
 ],
 "metadata": {
  "kernelspec": {
   "display_name": "phd-main",
   "language": "python",
   "name": "python3"
  },
  "language_info": {
   "codemirror_mode": {
    "name": "ipython",
    "version": 3
   },
   "file_extension": ".py",
   "mimetype": "text/x-python",
   "name": "python",
   "nbconvert_exporter": "python",
   "pygments_lexer": "ipython3",
   "version": "3.10.11"
  }
 },
 "nbformat": 4,
 "nbformat_minor": 2
}
